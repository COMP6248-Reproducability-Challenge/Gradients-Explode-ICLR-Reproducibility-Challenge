{
  "nbformat": 4,
  "nbformat_minor": 0,
  "metadata": {
    "colab": {
      "name": "Copy of Interactive Report.ipynb",
      "version": "0.3.2",
      "provenance": [],
      "collapsed_sections": []
    },
    "kernelspec": {
      "name": "python3",
      "display_name": "Python 3"
    },
    "accelerator": "GPU"
  },
  "cells": [
    {
      "cell_type": "markdown",
      "metadata": {
        "id": "Di6hyxYGrKSY",
        "colab_type": "text"
      },
      "source": [
        "# ICLR Reproducability Challenge: Interactive Report\n",
        "\n",
        "## Gradients Explode - Deep Networks Are Shallow - ResNets Explained\n",
        "\n",
        "This is an interactive report that contains results and figures from the original paper together with code to reproduce the same results\n",
        "\n"
      ]
    },
    {
      "cell_type": "markdown",
      "metadata": {
        "id": "rr9GcI6nsEyT",
        "colab_type": "text"
      },
      "source": [
        "## Introduction\n",
        "\n",
        "The original paper sets out to show that techniques such as Adam, batch normalisation and SeLU nonlinearities do not solve the exploding gradient problem that MLPs can suffer from. The authors go on to show that exploding gradients limit the depth to which neural networks can be effectively trained. Finally, they explain why exploding gradients occur and highlight the collapsing domain problem, which can affect neural networks that do not suffer from exploding gradients."
      ]
    },
    {
      "cell_type": "markdown",
      "metadata": {
        "id": "2WjZMgsktws5",
        "colab_type": "text"
      },
      "source": [
        "## Notation\n",
        "\n",
        "#### Neural Network Notation\n",
        "\n",
        "The authors describe a neural network $f$ as a succession of layers $f_l$, $ 0 \\leq l \\leq L$. Each of these layers is a vector-to-vector transformation. $f_1$ is the final/output layer, which outputs the prediction of the network, i.e:\n",
        "\n",
        "\\begin{equation*}\n",
        "\\hat{y} = f_1(\\theta_1, f_2(\\theta_2, f_3(\\dots f_L(\\theta_L, x)\\dots)))\n",
        "\\end{equation*}\n",
        "\n",
        "The goal is to minimise the value of the error/loss layer $f_0$ over the network's prediction and the true label $y$, summed over some dataset $D$.\n",
        "\n",
        "\\begin{equation*}\n",
        "\\underset{\\theta}{\\operatorname{argmin}} E = \\frac{1}{|D|}\\sum_{(x,y)\\in D}f_0(y, f_1(\\theta_1, f_2(\\theta_2, f_3(\\dots f_L(\\theta_L, x)\\dots))))\n",
        "\\end{equation*}\n",
        "\n",
        "#### Quadratic Expectation\n",
        "\n",
        "Let the quadratic expectation $\\mathbb{Q}$ of a random variable $X$ be defined as\n",
        "\n",
        "\\begin{equation*}\n",
        "\\mathbb{Q}[X] = \\mathbb{E}[X^2]^{\\frac{1}{2}}\n",
        "\\end{equation*}\n",
        "\n",
        "This is the generalisation of quadratic mean to random variables. Let the inverse quadratic expectation $\\mathbb{Q}^{-1}$ of a random variable $X$ be defined as\n",
        "\n",
        "\\begin{equation*}\n",
        "\\mathbb{Q}^{-1}[X] = \\mathbb{E}[X^{-2}]^{-\\frac{1}{2}}\n",
        "\\end{equation*}\n",
        "\n",
        "#### Quadratic Mean Norm\n",
        "\n",
        "Let the quadratic mean norm or qm norm of an $m \\times n$ matrix $A$ be the quadratic mean of its singular values where the sum of squares is divided by its right dimension $n$. If $s_1, s_2, \\dots, s_{\\mathrm{min}(m,n)}$ are the singular values of $A$, we write:\n",
        "\n",
        "\\begin{equation*}\n",
        "||A||_{qm} = \\sqrt{\\frac{s_1^2 + s_2^2 + \\cdots + s_{\\mathrm{min}(m,n)}^2}{n}}\n",
        "\\end{equation*}\n",
        "\n",
        "It measures the expected impact the matrix has on the length of a vector with uniformly random orientation\n",
        "\n",
        "#### Jacobians\n",
        "\n",
        "Let $\\mathcal{J}_k^l(\\theta, x, y)$ be the Jacobian of the $l$th layer $f_l$ with respect to the $k$th layer $f_k$ evaluated with parameter $\\theta$ at $(x,y)$, where $0 \\leq l \\leq k \\leq L$\n",
        "\n",
        "Let $\\mathcal{T}_k^l(\\theta, x, y)$ be the Jacobian of the $l$th layer $f_l$ with respect to the parameter sub-vector of the $k$th layer $\\theta_k$"
      ]
    },
    {
      "cell_type": "markdown",
      "metadata": {
        "id": "JeN4ZMbpxmsJ",
        "colab_type": "text"
      },
      "source": [
        "## Gradient Scale Coefficients (GSCs)\n",
        "\n",
        "The authors propose the Gradient Scale Coefficient as a means of assessing whether a network has pathological exploding gradients. It is robust to network scaling and layer width and can be used directly to show that training is difficult.\n",
        "\n",
        "#### GSC Definition\n",
        "\n",
        "Let the gradient scale coefficient for $0 \\leq l \\leq k \\leq L$ be as follows:\n",
        "\n",
        "\\begin{equation*}\n",
        "GSC(k,l,f,\\theta,x,y) = \\frac{||\\mathcal{J}_k^l||_{qm}^2||f_k||_2^2}{||f_l||_2^2}\n",
        "\\end{equation*}\n",
        "\n",
        "The GSC combines the norm of the Jacobian with the ratio of the lengths of the forward activation\n",
        "vectors. In plain language, it measures the size of the gradient flowing backward relative to the size\n",
        "of the activations flowing forward. Equivalently, it measures the relative sensitivity of layer l with\n",
        "respect to small random changes in layer k\n",
        "\n",
        "#### Exploding Gradients\n",
        "\n",
        "The authors propose the following definition of exploding gradients using the GSC. The network $f(\\theta)$ has exploding gradients with rate $r$ and intercept $c$ at some point $(x,y)$ if for all $k$ and $l$ we have $GSC(k,l,f,\\theta,x,y) \\geq cr^{k-l}$, and in particular $GSC(l,0,f,\\theta,x,y) \\geq cr^{l}$"
      ]
    },
    {
      "cell_type": "markdown",
      "metadata": {
        "id": "cu--3RV64kbv",
        "colab_type": "text"
      },
      "source": [
        "## Residual Neural Network and ResNets\n",
        "Similar to a standard neural network, the authors introduce the concept of a residual neural network which akin to the traditional neural network, referred to in the paper as a 'vanilla network' is a succession of layers with $f_1$ as the final/output layer. Each layer, apart from $f_0$, the error layer, is the sum of a fixed initial function $i_l$ and a residual function $r_l$. Here, the prediction of the network is\n",
        "\n",
        "\\begin{equation*}\n",
        "\\hat{y} = f_1(i_1 + r_1(\\theta_1), f_2(i_2 + r_2(\\theta_2), f_3(\\dots f_L(i_L + r_L(\\theta_L), x)\\dots)))\n",
        "\\end{equation*}\n",
        "\n",
        "This is minimised in a similar fashion to a vanilla network, by minimising the loss on the error layer, $f_0$\n",
        "\n",
        "#### ResNets\n",
        "ResNets are a special subset of residual neural networks which use a skip connection where an output from one layer $f_i$ is fed into the input of another layer $f_{i+x}$ along with the output of $f_{i+x-1}$. This is known as a residual block and $x$ is typically equal to 2 or 3. It can therefore be seen that the residual function is simply\n",
        "\\begin{equation*}\n",
        "r_l(\\theta_l) = f_l(\\theta_l) + f_{l-x}(\\theta_{l-x})\n",
        "\\end{equation*}\n",
        "\n",
        "More generally, we can refer to $f_b$\n",
        "\\begin{equation*}\n",
        "f_b = \\rho_b + s_b\n",
        "\\end{equation*}\n",
        "\n",
        "Where $\\rho_b$ is value computed by the block function and $s_b$ is the value computed by the skip connection. We point to a concept $k$ where\n",
        "\n",
        "\\begin{equation*}\n",
        "k \\propto \\frac{||s_b||}{||\\rho_b||}\n",
        "\\end{equation*}\n",
        "\n",
        "It is therefore said that $f_b$ is $k$-diluted. Diluting the function by a factor of $k$ does not just reduce the growth of the GSC by a factor of $k$ but by a factor of $k^2 + 1$. A reduction in the GSC this large shows how even small dilutions can drasticaly reduce the problem of exploding gradients"
      ]
    },
    {
      "cell_type": "markdown",
      "metadata": {
        "id": "5cpw-9uyy9WA",
        "colab_type": "text"
      },
      "source": [
        "# Experiments"
      ]
    },
    {
      "cell_type": "markdown",
      "metadata": {
        "id": "pQGG2JmUzOpS",
        "colab_type": "text"
      },
      "source": [
        "## Gradients Explode - Despite Bounded Activation Functions\n",
        "\n",
        "In this first experiment, the authors show that exploding gradients exist in MLPs despite the presence of bounded activation functions. They test 7 different MLPs: one with ReLU activations; one with layer normalisation followed by ReLU; one with batch normalisation followed by ReLU; one with tanh activations; one with layer normalisation followed by tanh; one with batch normalisation followed by tanh and one with SeLU activations. All 7 networks had 50 layers with 100 neurons each. The inputs and labels were gaussian noise."
      ]
    },
    {
      "cell_type": "code",
      "metadata": {
        "id": "xsp53iY29LLX",
        "colab_type": "code",
        "colab": {}
      },
      "source": [
        "import torch\n",
        "import torch.nn as nn\n",
        "import torch.nn.functional as F\n",
        "import matplotlib.pyplot as plt\n",
        "import sys"
      ],
      "execution_count": 0,
      "outputs": []
    },
    {
      "cell_type": "code",
      "metadata": {
        "id": "luDdhH3yANwa",
        "colab_type": "code",
        "colab": {}
      },
      "source": [
        "class MLP(nn.Module):\n",
        "    \"\"\"\n",
        "    Creates an MLP with a built-in method to compute it's gradient\n",
        "    scale coefficients\n",
        "    \"\"\"\n",
        "    \n",
        "    def __init__(self, activation, layer_norm=False, batch_norm=False):\n",
        "        super(MLP, self).__init__()\n",
        "        if layer_norm and batch_norm:\n",
        "            raise MemoryError('Only one of layer norm and batch norm' + \\\n",
        "                              ' can be true')\n",
        "        self.activation = activation\n",
        "        self.batch_norm = batch_norm\n",
        "        self.layer_norm = layer_norm\n",
        "        self.layers = nn.ModuleList()\n",
        "        for i in range(50):\n",
        "            self.layers.append(nn.Linear(100, 100, bias=False))\n",
        "        if self.activation == F.relu:\n",
        "            for layer in self.layers:\n",
        "                layer.weight.data = torch.tensor(2/100).pow(0.5)*torch.randn((100,100))\n",
        "        elif self.activation == torch.tanh:\n",
        "            for layer in self.layers:\n",
        "                layer.weight.data = torch.tensor(1/100).pow(0.5)*torch.randn((100,100))\n",
        "        elif self.activation == torch.selu:\n",
        "            for layer in self.layers:\n",
        "                layer.weight.data = torch.tensor(1/100).pow(0.5)*torch.randn((100,100))\n",
        "    \n",
        "    def forward(self, x):\n",
        "        if self.layer_norm:\n",
        "            for i in range(len(self.layers)):\n",
        "                x = self.activation(self.lnorm(self.layers[i](x)))\n",
        "        elif self.batch_norm:\n",
        "            for i in range(len(self.layers)):\n",
        "                x = self.activation(self.bnorm(self.layers[i](x)))\n",
        "        else:\n",
        "            for i in range(len(self.layers)):\n",
        "                x = self.activation(self.layers[i](x))\n",
        "        return x\n",
        "    \n",
        "    def bnorm(self, x):\n",
        "        mu = x.mean(dim=0)\n",
        "        sigma = x.std(dim=0)\n",
        "        x = (x - mu) / sigma\n",
        "        return x\n",
        "    \n",
        "    def lnorm(self, x):\n",
        "        mu = x.mean(dim=1).view(x.size(0),1)\n",
        "        sigma = x.std(dim=1).view(x.size(0),1)\n",
        "        x = (x - mu) / sigma\n",
        "        return x\n",
        "    \n",
        "    def get_gsc(self, k, l, x, y):\n",
        "        \"\"\"\n",
        "        Computes the gradient scale coefficient for layers k and l for\n",
        "        input x and target y\n",
        "        \n",
        "        In the code below:\n",
        "            fl is the output of layer l\n",
        "            fk is the output of layer k\n",
        "            J is the Jacobian of fl with respect to fk, i.e. J is a matrix\n",
        "            where the element in row i and column j is the derivative of the\n",
        "            ith element of fl with respect to the jth element of fk\n",
        "        \"\"\"\n",
        "        intermediates = []\n",
        "        batch_size = x.size(0)\n",
        "        x = x.clone().detach().requires_grad_(True)\n",
        "        if self.layer_norm:\n",
        "            for i in range(len(self.layers)):\n",
        "                x = self.activation(self.lnorm(self.layers[i](x)))\n",
        "                intermediates.append(x)\n",
        "        if self.batch_norm:\n",
        "            for i in range(len(self.layers)):\n",
        "                x = self.activation(self.bnorm(self.layers[i](x)))\n",
        "                intermediates.append(x)\n",
        "        else:\n",
        "            for i in range(len(self.layers)):\n",
        "                x = self.activation(self.layers[i](x))\n",
        "                intermediates.append(x)\n",
        "        x = torch.mul(x,y).sum(1)\n",
        "        intermediates.append(x)\n",
        "        intermediates = intermediates[::-1]\n",
        "        \n",
        "        fl = intermediates[l]\n",
        "        fk = intermediates[k]\n",
        "        \n",
        "        if l != 0:\n",
        "            fl_dim = fl.size(1)\n",
        "            fk_dim = fk.size(1)\n",
        "            J_norms = torch.zeros(batch_size)\n",
        "            k_norms = torch.zeros(batch_size)\n",
        "            l_norms = torch.zeros(batch_size)\n",
        "            for b in range(batch_size):\n",
        "                J = torch.zeros((fl_dim, fk_dim))\n",
        "                for i in range(fl_dim):\n",
        "                    J[i] += torch.autograd.grad(intermediates[l][b][i],\n",
        "                                                intermediates[k],\n",
        "                                                retain_graph=True)[0].flatten()\n",
        "                J_norms[b] = self.qm_norm(J).item()\n",
        "                k_norms[b] = self.l2_norm(fk[b]).item()\n",
        "                l_norms[b] = self.l2_norm(fl[b]).item()\n",
        "        else:\n",
        "            fl_dim = 1\n",
        "            fk_dim = fk.size(1)\n",
        "            J_norms = torch.zeros(batch_size)\n",
        "            k_norms = torch.zeros(batch_size)\n",
        "            l_norms = torch.zeros(batch_size)\n",
        "            for b in range(batch_size):\n",
        "                J = torch.autograd.grad(intermediates[l][b],\n",
        "                                        intermediates[k],\n",
        "                                        retain_graph=True)[0]\n",
        "                J_norms[b] = self.qm_norm(J).item()\n",
        "                k_norms[b] = self.l2_norm(fk[b]).item()\n",
        "                l_norms[b] = self.l2_norm(fl[b]).item()\n",
        "        qe_J_norm = self.quadratic_expectation(J_norms)\n",
        "        qe_k_norm = self.quadratic_expectation(k_norms)\n",
        "        qe_l_norm = self.quadratic_expectation(l_norms)\n",
        "        gsc = (qe_J_norm * qe_k_norm) / qe_l_norm\n",
        "        return gsc\n",
        "    \n",
        "    def get_stds(self, x, y):\n",
        "        \"\"\"\n",
        "        Computes the pre activation standard deviations\n",
        "        \n",
        "        In the code below:\n",
        "            fl is the output of layer l\n",
        "            fk is the output of layer k\n",
        "            J is the Jacobian of fl with respect to fk, i.e. J is a matrix\n",
        "            where the element in row i and column j is the derivative of the\n",
        "            ith element of fl with respect to the jth element of fk\n",
        "        \"\"\"\n",
        "        stds = torch.zeros(50)\n",
        "        signs = torch.zeros(50)\n",
        "        batch_size = x.size(0)\n",
        "        if self.layer_norm:\n",
        "            for i in range(len(self.layers)):\n",
        "                x = self.lnorm(self.layers[i](x))\n",
        "                neuron_stds = x.std(0)\n",
        "                layer_stds = self.quadratic_expectation(neuron_stds)\n",
        "                stds[i] = layer_stds\n",
        "                positive = (x >= 0).sum(0).float()/batch_size\n",
        "                negative = (x < 0).sum(0).float()/batch_size\n",
        "                diversity = torch.min(positive, negative).mean()\n",
        "                signs[i] = diversity\n",
        "                x = self.activation(x)\n",
        "        elif self.batch_norm:\n",
        "            for i in range(len(self.layers)):\n",
        "                x = self.bnorm(self.layers[i](x))\n",
        "                neuron_stds = x.std(0)\n",
        "                layer_stds = self.quadratic_expectation(neuron_stds)\n",
        "                stds[i] = layer_stds\n",
        "                positive = (x >= 0).sum(0).float()/batch_size\n",
        "                negative = (x < 0).sum(0).float()/batch_size\n",
        "                diversity = torch.min(positive, negative).mean()\n",
        "                signs[i] = diversity\n",
        "                x = self.activation(x)\n",
        "        else:\n",
        "            for i in range(len(self.layers)):\n",
        "                x = self.layers[i](x)\n",
        "                neuron_stds = x.std(0)\n",
        "                layer_stds = self.quadratic_expectation(neuron_stds)\n",
        "                stds[i] = layer_stds\n",
        "                positive = (x >= 0).sum(0).float()/batch_size\n",
        "                negative = (x < 0).sum(0).float()/batch_size\n",
        "                diversity = torch.min(positive, negative).mean()\n",
        "                signs[i] = diversity\n",
        "                x = self.activation(x)\n",
        "        return stds, signs\n",
        "    \n",
        "    def l2_norm(self, a):\n",
        "        \"\"\"\n",
        "        Computes the L2 norm of vector a, i.e. square root of the sum of each\n",
        "        element of a squared\n",
        "        \"\"\"\n",
        "        norm = a.pow(2).sum().pow(0.5)\n",
        "        return norm\n",
        "    \n",
        "    def qm_norm(self, A):\n",
        "        \"\"\"\n",
        "        Computes the quadratic mean norm of matrix A\n",
        "        \"\"\"\n",
        "        U, s, V = torch.svd(A)\n",
        "        sum_sq = s.pow(2).sum()\n",
        "        norm = torch.sqrt(sum_sq / A.size(1))\n",
        "        return norm\n",
        "    \n",
        "    def quadratic_expectation(self, x):\n",
        "        \"\"\"\n",
        "        Computes the quadratic mean norm of vector x\n",
        "        \"\"\"\n",
        "        expectation = x.pow(2).mean().pow(0.5)\n",
        "        return expectation\n",
        "\n",
        "def generate_dataset(obs, mean, var):\n",
        "    x = mean + (var**0.5)*torch.randn((obs, 100))\n",
        "    x = 10 * x / x.pow(2).sum(1).pow(0.5).view(obs, 1)\n",
        "    y = mean + (var**0.5)*torch.randn((obs, 100))\n",
        "    return x, y"
      ],
      "execution_count": 0,
      "outputs": []
    },
    {
      "cell_type": "code",
      "metadata": {
        "id": "fnqO6O0WRWUp",
        "colab_type": "code",
        "outputId": "31025c46-86e3-476d-f9c8-d750718a4a5b",
        "colab": {
          "base_uri": "https://localhost:8080/",
          "height": 409
        }
      },
      "source": [
        "device = \"cuda:0\" if torch.cuda.is_available() else \"cpu\"\n",
        "inputs, targets = generate_dataset(100, 0, 1/100)\n",
        "inputs = inputs.to(device)\n",
        "targets = targets.to(device)\n",
        "depths = []\n",
        "layers = []\n",
        "gscs = []\n",
        "stds = []\n",
        "signs = []\n",
        "activations = [F.relu, F.relu, F.relu, torch.tanh, torch.tanh, torch.tanh, torch.selu]\n",
        "layer_norms = [False, True, False, False, True, False, False]\n",
        "batch_norms = [False, False, True, False, False, True, False]\n",
        "labels = ['ReLU', 'Layer ReLU', 'Batch ReLU', 'Tanh', 'Layer Tanh', 'Batch Tanh', 'SeLU']\n",
        "for i in range(len(activations)):\n",
        "    network = MLP(activations[i],\n",
        "                  layer_norms[i],\n",
        "                  batch_norms[i]).to(device)\n",
        "    d = []\n",
        "    l = []\n",
        "    g = []\n",
        "    for j in range(1,51):\n",
        "        sys.stdout.write('\\rNetwork %d\\tDepth: %d    ' % (i+1, j))\n",
        "        sys.stdout.flush()\n",
        "        d.append(51-j)\n",
        "        l.append(j)\n",
        "        g.append(network.get_gsc(j, 0, inputs, targets).cpu())\n",
        "    depths.append(d)\n",
        "    layers.append(l)\n",
        "    gscs.append(g)\n",
        "    std, sign = network.get_stds(inputs, targets)\n",
        "    std = std.data.numpy()\n",
        "    sign = sign.data.numpy()\n",
        "    stds.append(std)\n",
        "    signs.append(sign)\n",
        "\n",
        "fig, ax = plt.subplots(figsize=(18,6), nrows=1, ncols=3)\n",
        "for i in range(len(activations)):\n",
        "    ax[0].plot(depths[i], gscs[i], label=labels[i])\n",
        "    ax[1].plot(layers[i], stds[i], label=labels[i])\n",
        "    ax[2].plot(layers[i], signs[i], label=labels[i])\n",
        "ax[0].set_yscale('log')\n",
        "ax[0].set_yticks([1,10,100,1000,10000])\n",
        "ax[0].set_yticklabels([1,10,100,1000,10000])\n",
        "ax[0].set_xlabel('Compositional depth')\n",
        "ax[0].set_ylabel('Gradient Scale Coefficient')\n",
        "ax[0].legend()\n",
        "ax[1].set_xlabel('Nonlinearity Layer')\n",
        "ax[1].set_ylabel('Pre-Activation Standard Deviation')\n",
        "ax[2].set_xlabel('Nonlinearity Layer')\n",
        "ax[2].set_ylabel('Pre-Activation Sign Diversity')\n",
        "plt.show()"
      ],
      "execution_count": 0,
      "outputs": [
        {
          "output_type": "stream",
          "text": [
            "Network 7\tDepth: 50    "
          ],
          "name": "stdout"
        },
        {
          "output_type": "display_data",
          "data": {
            "image/png": "[encoded data removed]",
            "text/plain": [
              "<Figure size 1296x432 with 3 Axes>"
            ]
          },
          "metadata": {
            "tags": []
          }
        }
      ]
    },
    {
      "cell_type": "code",
      "metadata": {
        "id": "pHj9_CfAoVNo",
        "colab_type": "code",
        "outputId": "4a520845-3d9f-4e7c-f0bf-82dba70c30f3",
        "colab": {
          "base_uri": "https://localhost:8080/",
          "height": 34
        }
      },
      "source": [
        "network.layers[0].weight.size()"
      ],
      "execution_count": 0,
      "outputs": [
        {
          "output_type": "execute_result",
          "data": {
            "text/plain": [
              "torch.Size([100, 100])"
            ]
          },
          "metadata": {
            "tags": []
          },
          "execution_count": 11
        }
      ]
    },
    {
      "cell_type": "markdown",
      "metadata": {
        "id": "R3sLObo5U8sO",
        "colab_type": "text"
      },
      "source": [
        "The reproduced results are largely the same as the results from the original paper. However, in the original paper the gradient scale coefficients of the Layer Tanh network suggested that it suffered from exploding gradients whereas in this reproduction the gradient scale coefficients are roughly 1 at each compositional depth."
      ]
    },
    {
      "cell_type": "markdown",
      "metadata": {
        "id": "6fPTMuuOMuQj",
        "colab_type": "text"
      },
      "source": [
        "## Exploding Gradients Limit Depth - The Residual Trick\n",
        "\n",
        "In this section of the paper, the authors introduce effective depth and do some things with CIFAR10"
      ]
    },
    {
      "cell_type": "code",
      "metadata": {
        "id": "ZQV3I-OtWrAi",
        "colab_type": "code",
        "colab": {}
      },
      "source": [
        "import torch\n",
        "import torch.nn as nn\n",
        "import torch.nn.functional as F\n",
        "import matplotlib.pyplot as plt\n",
        "import sys"
      ],
      "execution_count": 0,
      "outputs": []
    },
    {
      "cell_type": "code",
      "metadata": {
        "id": "RznmU02VXRc5",
        "colab_type": "code",
        "outputId": "47be3e18-ea27-473a-a5a5-a123e9677a3d",
        "colab": {
          "base_uri": "https://localhost:8080/",
          "height": 34
        }
      },
      "source": [
        "import torchvision.transforms as transforms\n",
        "from torchvision.datasets import CIFAR10\n",
        "from torch.utils.data import DataLoader\n",
        "\n",
        "transform = transforms.Compose([\n",
        "    transforms.ToTensor(),\n",
        "    transforms.Normalize((0, 0, 0), (1, 1, 1)),\n",
        "    transforms.Lambda(lambda x: x.view(-1))\n",
        "])\n",
        "\n",
        "trainset = CIFAR10(\".\", train=True, download=True, transform=transform)"
      ],
      "execution_count": 0,
      "outputs": [
        {
          "output_type": "stream",
          "text": [
            "Files already downloaded and verified\n"
          ],
          "name": "stdout"
        }
      ]
    },
    {
      "cell_type": "code",
      "metadata": {
        "id": "pYLIwjc8YcKs",
        "colab_type": "code",
        "colab": {}
      },
      "source": [
        "trainloader = DataLoader(trainset, batch_size=1000, shuffle=True)\n",
        "gscloader = DataLoader(trainset, batch_size=50000, shuffle=True)"
      ],
      "execution_count": 0,
      "outputs": []
    },
    {
      "cell_type": "code",
      "metadata": {
        "id": "JB_Mp15aXP9C",
        "colab_type": "code",
        "colab": {}
      },
      "source": [
        "class MLP(nn.Module):\n",
        "    \"\"\"\n",
        "    Creates an MLP with a built-in method to compute it's gradient\n",
        "    scale coefficients\n",
        "    \"\"\"\n",
        "    \n",
        "    def __init__(self, activation, layer_norm=False, batch_norm=False):\n",
        "        device = \"cuda:0\" if torch.cuda.is_available() else \"cpu\"\n",
        "        super(MLP, self).__init__()\n",
        "        if layer_norm and batch_norm:\n",
        "            raise MemoryError('Only one of layer norm and batch norm' + \\\n",
        "                              ' can be true')\n",
        "        self.activation = activation\n",
        "        self.batch_norm = batch_norm\n",
        "        self.layer_norm = layer_norm\n",
        "        self.fc1 = nn.Linear(3072, 100, bias=False)\n",
        "        if self.activation == F.relu:\n",
        "            self.fc1.weight.data = torch.tensor(2/100).pow(0.5)*torch.randn(self.fc1.weight.size())\n",
        "        elif self.activation == torch.tanh:\n",
        "            self.fc1.weight.data = torch.tensor(1/100).pow(0.5)*torch.randn(self.fc1.weight.size())\n",
        "        elif self.activation == torch.selu:\n",
        "            self.fc1.weight.data = torch.tensor(1/100).pow(0.5)*torch.randn(self.fc1.weight.size())\n",
        "        self.layers = nn.ModuleList()\n",
        "        for i in range(49):\n",
        "            self.layers.append(nn.Linear(100, 100, bias=False))\n",
        "        if self.activation == F.relu:\n",
        "            for layer in self.layers:\n",
        "                layer.weight.data = torch.tensor(2/100).pow(0.5)*torch.randn((100,100))\n",
        "        elif self.activation == torch.tanh:\n",
        "            for layer in self.layers:\n",
        "                layer.weight.data = torch.tensor(1/100).pow(0.5)*torch.randn((100,100))\n",
        "        elif self.activation == torch.selu:\n",
        "            for layer in self.layers:\n",
        "                layer.weight.data = torch.tensor(1/100).pow(0.5)*torch.randn((100,100))\n",
        "        self.fc2 = nn.Linear(100, 10, bias=False)\n",
        "        if self.activation == F.relu:\n",
        "            self.fc2.weight.data = torch.tensor(2/100).pow(0.5)*torch.randn(self.fc2.weight.size())\n",
        "        elif self.activation == torch.tanh:\n",
        "            self.fc2.weight.data = torch.tensor(1/100).pow(0.5)*torch.randn(self.fc2.weight.size())\n",
        "        elif self.activation == torch.selu:\n",
        "            self.fc2.weight.data = torch.tensor(1/100).pow(0.5)*torch.randn(self.fc2.weight.size())\n",
        "    \n",
        "    def forward(self, x):\n",
        "        if self.layer_norm:\n",
        "            x = self.activation(self.lnorm(self.fc1(x)))\n",
        "            for i in range(len(self.layers)):\n",
        "                x = self.activation(self.lnorm(self.layers[i](x)))\n",
        "        elif self.batch_norm:\n",
        "            x = self.activation(self.bnorm(self.fc1(x)))\n",
        "            for i in range(len(self.layers)):\n",
        "                x = self.activation(self.bnorm(self.layers[i](x)))\n",
        "        else:\n",
        "            x = self.activation(self.fc1(x))\n",
        "            for i in range(len(self.layers)):\n",
        "                x = self.activation(self.layers[i](x))\n",
        "        x = F.softmax(self.fc2(x), dim=1)\n",
        "        return x\n",
        "    \n",
        "    def bnorm(self, x):\n",
        "        mu = x.mean(dim=0)\n",
        "        sigma = x.std(dim=0)\n",
        "        x = (x - mu) / sigma\n",
        "        return x\n",
        "    \n",
        "    def lnorm(self, x):\n",
        "        mu = x.mean(dim=1).view(x.size(0),1)\n",
        "        sigma = x.std(dim=1).view(x.size(0),1)\n",
        "        x = (x - mu) / sigma\n",
        "        return x\n",
        "    \n",
        "    def get_gsc(self, k, l, x, y):\n",
        "        \"\"\"\n",
        "        Computes the gradient scale coefficient for layers k and l for\n",
        "        input x and target y\n",
        "        \n",
        "        In the code below:\n",
        "            fl is the output of layer l\n",
        "            fk is the output of layer k\n",
        "            J is the Jacobian of fl with respect to fk, i.e. J is a matrix\n",
        "            where the element in row i and column j is the derivative of the\n",
        "            ith element of fl with respect to the jth element of fk\n",
        "        \"\"\"\n",
        "        intermediates = []\n",
        "        batch_size = x.size(0)\n",
        "        x = x.clone().detach().requires_grad_(True).to(device)\n",
        "        if self.layer_norm:\n",
        "            x = self.activation(self.lnorm(self.fc1(x)))\n",
        "            intermediates.append(x)\n",
        "            for i in range(len(self.layers)):\n",
        "                x = self.activation(self.lnorm(self.layers[i](x)))\n",
        "                intermediates.append(x)\n",
        "        if self.batch_norm:\n",
        "            x = self.activation(self.bnorm(self.fc1(x)))\n",
        "            intermediates.append(x)\n",
        "            for i in range(len(self.layers)):\n",
        "                x = self.activation(self.bnorm(self.layers[i](x)))\n",
        "                intermediates.append(x)\n",
        "        else:\n",
        "            x = self.activation(self.fc1(x))\n",
        "            intermediates.append(x)\n",
        "            for i in range(len(self.layers)):\n",
        "                x = self.activation(self.layers[i](x))\n",
        "                intermediates.append(x)\n",
        "        x = F.softmax(self.fc2(x), dim=1)\n",
        "        intermediates.append(x)\n",
        "        x = torch.log(x)\n",
        "        intermediates.append(x)\n",
        "        intermediates = intermediates[::-1]\n",
        "        \n",
        "        fl = intermediates[l]\n",
        "        fk = intermediates[k]\n",
        "        \n",
        "        fl_dim = fl.size(1)\n",
        "        fk_dim = fk.size(1)\n",
        "        J_norms = torch.zeros(batch_size).to(device)\n",
        "        k_norms = torch.zeros(batch_size).to(device)\n",
        "        l_norms = torch.zeros(batch_size).to(device)\n",
        "        for b in range(batch_size):\n",
        "            J = torch.zeros((fl_dim, fk_dim*batch_size)).to(device)\n",
        "            for i in range(fl_dim):\n",
        "                J[i] += torch.autograd.grad(intermediates[l][b][i],\n",
        "                                            intermediates[k],\n",
        "                                            retain_graph=True)[0].flatten()\n",
        "            J_norms[b] = self.qm_norm(J).item()\n",
        "            k_norms[b] = self.l2_norm(fk[b]).item()\n",
        "            l_norms[b] = self.l2_norm(fl[b]).item()\n",
        "        qe_J_norm = self.quadratic_expectation(J_norms)\n",
        "        qe_k_norm = self.quadratic_expectation(k_norms)\n",
        "        qe_l_norm = self.quadratic_expectation(l_norms)\n",
        "        gsc = (qe_J_norm * qe_k_norm) / qe_l_norm\n",
        "        return gsc\n",
        "    \n",
        "    def get_proper_gsc(self, k, l, x, y):\n",
        "        \"\"\"\n",
        "        Computes the gradient scale coefficient for layers k and l for\n",
        "        input x and target y\n",
        "        \n",
        "        In the code below:\n",
        "            fl is the output of layer l\n",
        "            fk is the output of layer k\n",
        "            J is the Jacobian of fl with respect to fk, i.e. J is a matrix\n",
        "            where the element in row i and column j is the derivative of the\n",
        "            ith element of fl with respect to the jth element of fk\n",
        "        \"\"\"\n",
        "        intermediates = []\n",
        "        batch_size = x.size(0)\n",
        "        x = x.clone().detach().requires_grad_(True).to(device)\n",
        "        if self.layer_norm:\n",
        "            x = self.activation(self.lnorm(self.fc1(x)))\n",
        "            intermediates.append(x)\n",
        "            for i in range(len(self.layers)):\n",
        "                x = self.activation(self.lnorm(self.layers[i](x)))\n",
        "                intermediates.append(x)\n",
        "        if self.batch_norm:\n",
        "            x = self.activation(self.bnorm(self.fc1(x)))\n",
        "            intermediates.append(x)\n",
        "            for i in range(len(self.layers)):\n",
        "                x = self.activation(self.bnorm(self.layers[i](x)))\n",
        "                intermediates.append(x)\n",
        "        else:\n",
        "            x = self.activation(self.fc1(x))\n",
        "            intermediates.append(x)\n",
        "            for i in range(len(self.layers)):\n",
        "                x = self.activation(self.layers[i](x))\n",
        "                intermediates.append(x)\n",
        "        x = F.softmax(self.fc2(x), dim=1)\n",
        "        intermediates.append(x)\n",
        "        x = torch.log(x[torch.arange(y.size(0)),y])\n",
        "        intermediates.append(x)\n",
        "        intermediates = intermediates[::-1]\n",
        "        \n",
        "        fl = intermediates[l]\n",
        "        fk = intermediates[k]\n",
        "        \n",
        "        if l != 0:\n",
        "            fl_dim = fl.size(1)\n",
        "            fk_dim = fk.size(1)\n",
        "            J_norms = torch.zeros(batch_size)\n",
        "            k_norms = torch.zeros(batch_size)\n",
        "            l_norms = torch.zeros(batch_size)\n",
        "            for b in range(batch_size):\n",
        "                J = torch.zeros((fl_dim, fk_dim))\n",
        "                for i in range(fl_dim):\n",
        "                    J[i] += torch.autograd.grad(intermediates[l][b][i],\n",
        "                                                intermediates[k],\n",
        "                                                retain_graph=True)[0].flatten().to(device)\n",
        "                J_norms[b] = self.qm_norm(J).item()\n",
        "                k_norms[b] = self.l2_norm(fk[b]).item()\n",
        "                l_norms[b] = self.l2_norm(fl[b]).item()\n",
        "        else:\n",
        "            fl_dim = 1\n",
        "            fk_dim = fk.size(1)\n",
        "            J_norms = torch.zeros(batch_size)\n",
        "            k_norms = torch.zeros(batch_size)\n",
        "            l_norms = torch.zeros(batch_size)\n",
        "            for b in range(batch_size):\n",
        "                J = torch.autograd.grad(intermediates[l][b],\n",
        "                                        intermediates[k],\n",
        "                                        retain_graph=True)[0].to(device)\n",
        "                J_norms[b] = self.qm_norm(J).item()\n",
        "                k_norms[b] = self.l2_norm(fk[b]).item()\n",
        "                l_norms[b] = self.l2_norm(fl[b]).item()\n",
        "        qe_J_norm = self.quadratic_expectation(J_norms)\n",
        "        qe_k_norm = self.quadratic_expectation(k_norms)\n",
        "        qe_l_norm = self.quadratic_expectation(l_norms)\n",
        "        gsc = (qe_J_norm * qe_k_norm) / qe_l_norm\n",
        "        return gsc\n",
        "    \n",
        "    def get_stds(self, x, y):\n",
        "        \"\"\"\n",
        "        Computes the pre activation standard deviations\n",
        "        \n",
        "        In the code below:\n",
        "            fl is the output of layer l\n",
        "            fk is the output of layer k\n",
        "            J is the Jacobian of fl with respect to fk, i.e. J is a matrix\n",
        "            where the element in row i and column j is the derivative of the\n",
        "            ith element of fl with respect to the jth element of fk\n",
        "        \"\"\"\n",
        "        stds = torch.zeros(50)\n",
        "        signs = torch.zeros(50)\n",
        "        batch_size = x.size(0)\n",
        "        if self.layer_norm:\n",
        "            for i in range(len(self.layers)):\n",
        "                x = self.lnorm(self.layers[i](x))\n",
        "                neuron_stds = x.std(0)\n",
        "                layer_stds = self.quadratic_expectation(neuron_stds)\n",
        "                stds[i] = layer_stds\n",
        "                positive = (x >= 0).sum(0).float()/batch_size\n",
        "                negative = (x < 0).sum(0).float()/batch_size\n",
        "                diversity = torch.min(positive, negative).mean()\n",
        "                signs[i] = diversity\n",
        "                x = self.activation(x)\n",
        "        elif self.batch_norm:\n",
        "            for i in range(len(self.layers)):\n",
        "                x = self.bnorm(self.layers[i](x))\n",
        "                neuron_stds = x.std(0)\n",
        "                layer_stds = self.quadratic_expectation(neuron_stds)\n",
        "                stds[i] = layer_stds\n",
        "                positive = (x >= 0).sum(0).float()/batch_size\n",
        "                negative = (x < 0).sum(0).float()/batch_size\n",
        "                diversity = torch.min(positive, negative).mean()\n",
        "                signs[i] = diversity\n",
        "                x = self.activation(x)\n",
        "        else:\n",
        "            for i in range(len(self.layers)):\n",
        "                x = self.layers[i](x)\n",
        "                neuron_stds = x.std(0)\n",
        "                layer_stds = self.quadratic_expectation(neuron_stds)\n",
        "                stds[i] = layer_stds\n",
        "                positive = (x >= 0).sum(0).float()/batch_size\n",
        "                negative = (x < 0).sum(0).float()/batch_size\n",
        "                diversity = torch.min(positive, negative).mean()\n",
        "                signs[i] = diversity\n",
        "                x = self.activation(x)\n",
        "        return stds, signs\n",
        "    \n",
        "    def l2_norm(self, a):\n",
        "        \"\"\"\n",
        "        Computes the L2 norm of vector a, i.e. square root of the sum of each\n",
        "        element of a squared\n",
        "        \"\"\"\n",
        "        norm = a.pow(2).sum().pow(0.5)\n",
        "        return norm\n",
        "    \n",
        "    def qm_norm(self, A):\n",
        "        \"\"\"\n",
        "        Computes the quadratic mean norm of matrix A\n",
        "        \"\"\"\n",
        "        U, s, V = torch.svd(A)\n",
        "        sum_sq = s.pow(2).sum()\n",
        "        norm = torch.sqrt(sum_sq / A.size(1))\n",
        "        return norm\n",
        "    \n",
        "    def quadratic_expectation(self, x):\n",
        "        \"\"\"\n",
        "        Computes the quadratic mean norm of vector x\n",
        "        \"\"\"\n",
        "        expectation = x.pow(2).mean().pow(0.5)\n",
        "        return expectation"
      ],
      "execution_count": 0,
      "outputs": []
    },
    {
      "cell_type": "code",
      "metadata": {
        "id": "alyuOekEe0vS",
        "colab_type": "code",
        "outputId": "32e00bfd-b380-4004-f92a-6f8846af661f",
        "colab": {
          "base_uri": "https://localhost:8080/",
          "height": 34
        }
      },
      "source": [
        "device = \"cuda:0\" if torch.cuda.is_available() else \"cpu\"\n",
        "network = MLP(torch.selu, False, False).to(device)\n",
        "counter = 0\n",
        "for data in gscloader:\n",
        "    counter += 1\n",
        "    sys.stdout.write(\"\\rCalcing GSC, batch %d                      \" % \\\n",
        "                    (counter))\n",
        "    sys.stdout.flush()\n",
        "    inputs, labels = data\n",
        "    inputs, labels = inputs.to(device), labels.to(device)\n",
        "    intermediates = network.get_proper_gsc(51, 0, inputs, labels)"
      ],
      "execution_count": 0,
      "outputs": [
        {
          "output_type": "stream",
          "text": [
            "Calcing GSC, batch 305                      "
          ],
          "name": "stdout"
        }
      ]
    },
    {
      "cell_type": "code",
      "metadata": {
        "id": "zKY2taRXfhe5",
        "colab_type": "code",
        "outputId": "43ebb647-3502-4339-b425-8b10f2c9c0a5",
        "colab": {
          "base_uri": "https://localhost:8080/",
          "height": 34
        }
      },
      "source": [
        "intermediates[0].size()"
      ],
      "execution_count": 0,
      "outputs": [
        {
          "output_type": "execute_result",
          "data": {
            "text/plain": [
              "torch.Size([1000, 2, 10])"
            ]
          },
          "metadata": {
            "tags": []
          },
          "execution_count": 28
        }
      ]
    },
    {
      "cell_type": "code",
      "metadata": {
        "id": "wS5FJ_CErfSO",
        "colab_type": "code",
        "outputId": "d4542c44-2de8-4e26-dcc0-4000d9cd86f7",
        "colab": {
          "base_uri": "https://localhost:8080/",
          "height": 34
        }
      },
      "source": [
        "import torch.optim as optim\n",
        "\n",
        "device = \"cuda:0\" if torch.cuda.is_available() else \"cpu\"\n",
        "network = MLP(torch.selu, False, False).to(device)\n",
        "\n",
        "# define the loss function and the optimiser\n",
        "loss_function = nn.CrossEntropyLoss()\n",
        "optimiser = optim.SGD(network.parameters(), lr=0.03)\n",
        "from sklearn.metrics import accuracy_score\n",
        "\n",
        "scheduler = optim.lr_scheduler.ReduceLROnPlateau(optimiser, 'min', 0.333, 5)\n",
        "lr_changes = 0\n",
        "prev_lr = 0.03\n",
        "running_loss = 0\n",
        "# gscs = []\n",
        "# gsc = 0\n",
        "# counter = 0\n",
        "# for data in gscloader:\n",
        "#     counter += 1\n",
        "#     sys.stdout.write(\"\\rCalcing GSC, epoch %d, batch %d                      \" % \\\n",
        "#                      (0, counter))\n",
        "#     sys.stdout.flush()\n",
        "#     inputs, labels = data\n",
        "#     inputs, labels = inputs.to(device), labels.to(device)\n",
        "#     gsc = gsc + (1/counter)*(network.get_proper_gsc(51, 0, inputs, labels) - gsc)\n",
        "# gscs.append(gsc)\n",
        "\n",
        "for epoch in range(100):\n",
        "    if lr_changes >= 11:\n",
        "        break\n",
        "    running_loss = 0.0\n",
        "    running_acc = 0\n",
        "    num_batches = 0\n",
        "    for param_group in optimiser.param_groups:\n",
        "            if prev_lr != param_group['lr']:\n",
        "                lr_changes += 1\n",
        "                prev_lr = param_group['lr']\n",
        "    gsc = 0\n",
        "    counter = 0\n",
        "    for data in trainloader:\n",
        "        # get the inputs\n",
        "        inputs, labels = data\n",
        "        inputs, labels = inputs.to(device), labels.to(device)\n",
        "        # zero the parameter gradients\n",
        "        optimiser.zero_grad()\n",
        "        outputs = network(inputs)\n",
        "        values, indices = torch.max(outputs, 1)\n",
        "        running_acc += accuracy_score(labels.cpu(), indices.cpu())\n",
        "        num_batches += 1\n",
        "#         loss = loss_function(outputs, labels)\n",
        "        loss = -1*torch.log(outputs[torch.arange(labels.size(0)),labels]).mean()\n",
        "        loss.backward()\n",
        "        optimiser.step()\n",
        "        # keep track of the loss this epoch\n",
        "        running_loss += loss.item()\n",
        "        network.zero_grad()\n",
        "#     for data in gscloader:\n",
        "#         counter += 1\n",
        "#         sys.stdout.write(\"\\rCalcing GSC, epoch %d, batch %d                      \" % \\\n",
        "#                          (0, counter))\n",
        "#         sys.stdout.flush()\n",
        "#         inputs, labels = data\n",
        "#         inputs, labels = inputs.to(device), labels.to(device)\n",
        "#         gsc = gsc + (1/counter)*(network.get_proper_gsc(51, 0, inputs, labels) - gsc)\n",
        "#     gscs.append(gsc)\n",
        "    scheduler.step(running_loss)\n",
        "    running_acc /= num_batches\n",
        "    running_loss /= num_batches\n",
        "    sys.stdout.write(\"\\rEpoch %d, loss %4.2f, acc %4.2f, gsc %4.2f\" % \\\n",
        "                     (epoch+1, running_loss, running_acc, gsc))\n",
        "    sys.stdout.flush()"
      ],
      "execution_count": 0,
      "outputs": [
        {
          "output_type": "stream",
          "text": [
            "Epoch 100, loss 1.31, acc 0.53, gsc 0.00"
          ],
          "name": "stdout"
        }
      ]
    },
    {
      "cell_type": "code",
      "metadata": {
        "id": "avzxzIuSGL2o",
        "colab_type": "code",
        "colab": {}
      },
      "source": [
        "device = \"cuda:0\" if torch.cuda.is_available() else \"cpu\"\n",
        "network = MLP(torch.tanh, False, True).to(device)\n",
        "gsc = network.get_gsc(1, 0, inputs, labels)"
      ],
      "execution_count": 0,
      "outputs": []
    },
    {
      "cell_type": "code",
      "metadata": {
        "id": "o4HTIv71JlWS",
        "colab_type": "code",
        "outputId": "f612a7fc-e2b4-405b-96ad-ab40cb440a70",
        "colab": {
          "base_uri": "https://localhost:8080/",
          "height": 34
        }
      },
      "source": [
        "n = np.arange(len(gscs))\n",
        "fig, ax = plt.subplots(figsize=(12,6), nrows=1, ncols=1)\n",
        "ax.plot(n, gscs)\n",
        "plt.show()"
      ],
      "execution_count": 0,
      "outputs": [
        {
          "output_type": "execute_result",
          "data": {
            "text/plain": [
              "tensor(0.0264)"
            ]
          },
          "metadata": {
            "tags": []
          },
          "execution_count": 10
        }
      ]
    },
    {
      "cell_type": "code",
      "metadata": {
        "id": "veOWo4wcPs7K",
        "colab_type": "code",
        "outputId": "60f3798c-cf97-4d2b-ec59-f6121b8d0fa8",
        "colab": {
          "base_uri": "https://localhost:8080/",
          "height": 50
        }
      },
      "source": [
        "print(torch.tensor(trainset.data).size())\n",
        "print(torch.tensor(trainset.targets).size())"
      ],
      "execution_count": 0,
      "outputs": [
        {
          "output_type": "stream",
          "text": [
            "torch.Size([50000, 32, 32, 3])\n",
            "torch.Size([50000])\n"
          ],
          "name": "stdout"
        }
      ]
    },
    {
      "cell_type": "code",
      "metadata": {
        "id": "6swHFM0xVoCM",
        "colab_type": "code",
        "outputId": "78ea42de-3f8e-4d37-8914-57f935946b51",
        "colab": {
          "base_uri": "https://localhost:8080/",
          "height": 101
        }
      },
      "source": [
        "b_size = 10000\n",
        "loader = DataLoader(trainset, batch_size=b_size, shuffle=True)\n",
        "device = \"cuda:0\" if torch.cuda.is_available() else \"cpu\"\n",
        "network = MLP(F.relu, True, False)\n",
        "counter = 0\n",
        "for data in loader:\n",
        "        inputs, labels = data\n",
        "        outputs = network(inputs)\n",
        "        loss = -1*torch.log(outputs[torch.arange(b_size),labels]).mean()\n",
        "        print(loss)\n",
        "        counter += 1"
      ],
      "execution_count": 0,
      "outputs": [
        {
          "output_type": "stream",
          "text": [
            "tensor(2.8051, grad_fn=<MulBackward0>)\n",
            "tensor(2.7834, grad_fn=<MulBackward0>)\n",
            "tensor(2.8006, grad_fn=<MulBackward0>)\n",
            "tensor(2.7956, grad_fn=<MulBackward0>)\n",
            "tensor(2.8035, grad_fn=<MulBackward0>)\n"
          ],
          "name": "stdout"
        }
      ]
    },
    {
      "cell_type": "code",
      "metadata": {
        "id": "j4xElJVGZqGI",
        "colab_type": "code",
        "outputId": "9e4800df-ff9f-45de-a6e8-033ccc2c72e6",
        "colab": {
          "base_uri": "https://localhost:8080/",
          "height": 84
        }
      },
      "source": [
        "outputs.size()\n",
        "thing = outputs[torch.arange(b_size),labels]\n",
        "print(outputs[0])\n",
        "print(labels[0])\n",
        "print(thing[0])"
      ],
      "execution_count": 0,
      "outputs": [
        {
          "output_type": "stream",
          "text": [
            "tensor([0.0436, 0.0355, 0.2490, 0.0956, 0.2745, 0.0358, 0.0248, 0.0266, 0.1968,\n",
            "        0.0177], grad_fn=<SelectBackward>)\n",
            "tensor(3)\n",
            "tensor(0.0956, grad_fn=<SelectBackward>)\n"
          ],
          "name": "stdout"
        }
      ]
    }
  ]
}